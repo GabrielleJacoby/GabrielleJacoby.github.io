{
 "cells": [
  {
   "cell_type": "code",
   "execution_count": 1,
   "metadata": {},
   "outputs": [],
   "source": [
    "import pandas as pd\n",
    "import geopandas as gpd\n",
    "import requests\n",
    "import lxml.html as lh\n",
    "from bs4 import BeautifulSoup\n",
    "from shapely.geometry import Point, Polygon\n",
    "import matplotlib.pyplot as plt\n",
    "import numpy as np\n",
    "import PIL\n",
    "import os\n",
    "import cv2\n",
    "import glob\n",
    "from PIL import Image\n",
    "import matplotlib.ticker as ticker"
   ]
  },
  {
   "cell_type": "code",
   "execution_count": 2,
   "metadata": {
    "scrolled": true
   },
   "outputs": [],
   "source": [
    "texas = gpd.read_file(\"County.shp\")\n",
    "texas = texas.astype({\"CNTY_FIPS\": int})"
   ]
  },
  {
   "cell_type": "code",
   "execution_count": 3,
   "metadata": {},
   "outputs": [],
   "source": [
    "def find_max_value(year_range,column_name):\n",
    "    \n",
    "    max_value = 0\n",
    "    \n",
    "    for i in year: \n",
    "    \n",
    "        I = str(i)\n",
    "        filename = \"TX Production - \" + I +\".csv\"\n",
    "        production = pd.read_csv(filename)\n",
    "    \n",
    "        column = production[column_name]\n",
    "        temp_max_value = column.max()\n",
    "\n",
    "        if temp_max_value > max_value:\n",
    "            max_value = temp_max_value\n",
    "        else:\n",
    "            max_value = max_value\n",
    "        \n",
    "    return(max_value)"
   ]
  },
  {
   "cell_type": "code",
   "execution_count": 4,
   "metadata": {},
   "outputs": [],
   "source": [
    "def plot_county_map(merged,year,column_name,max_value):\n",
    "    \n",
    "    ax = merged.plot(column=column_name, cmap ='inferno', figsize=(15,9), legend=True, vmin=0, vmax=max_value)\n",
    "    \n",
    "    #add title to the map\n",
    "    ax.set_title(column_name + \" Production in \" + year, fontdict={'fontsize':15})\n",
    "    \n",
    "    #remove axes\n",
    "    ax.set_axis_off()"
   ]
  },
  {
   "cell_type": "code",
   "execution_count": 5,
   "metadata": {},
   "outputs": [],
   "source": [
    "def create_movie(year_range,column_name):\n",
    "\n",
    "    image_frames = []\n",
    "\n",
    "    max_value = find_max_value(year,column_name)\n",
    "\n",
    "    for i in year_range: \n",
    "\n",
    "        I = str(i)\n",
    "        filename = \"TX Production - \" + I +\".csv\"\n",
    "        production = pd.read_csv(filename)\n",
    "\n",
    "        merged = texas.merge(production, left_on = 'CNTY_FIPS', right_on = 'FIPS')\n",
    "\n",
    "        plot_county_map(merged,I,column_name,max_value)\n",
    "\n",
    "        #save image\n",
    "        pic_name = column_name + \" - \" + I + \".jpg\"\n",
    "        plt.savefig(pic_name)\n",
    "        \n",
    "        #add image to image array\n",
    "        image_frames.append(cv2.imread(pic_name))\n",
    "\n",
    "        #clear plot and delete image file\n",
    "        plt.clf()\n",
    "        os.remove(pic_name)\n",
    "        \n",
    "    height,width,layers=image_frames[1].shape\n",
    "\n",
    "    video=cv2.VideoWriter(column_name + '.mp4',-1,1,(width,height))\n",
    "    \n",
    "    for j in range(0,len(year_range)):\n",
    "        video.write(image_frames[j])\n",
    "    \n",
    "    cv2.destroyAllWindows()\n",
    "    video.release()       "
   ]
  },
  {
   "cell_type": "code",
   "execution_count": null,
   "metadata": {},
   "outputs": [],
   "source": []
  }
 ],
 "metadata": {
  "kernelspec": {
   "display_name": "Python 3",
   "language": "python",
   "name": "python3"
  },
  "language_info": {
   "codemirror_mode": {
    "name": "ipython",
    "version": 3
   },
   "file_extension": ".py",
   "mimetype": "text/x-python",
   "name": "python",
   "nbconvert_exporter": "python",
   "pygments_lexer": "ipython3",
   "version": "3.6.5"
  }
 },
 "nbformat": 4,
 "nbformat_minor": 2
}
