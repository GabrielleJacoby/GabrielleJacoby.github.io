{
 "cells": [
  {
   "cell_type": "code",
   "execution_count": 7,
   "metadata": {},
   "outputs": [
    {
     "name": "stdout",
     "output_type": "stream",
     "text": [
      "Dash is running on http://127.0.0.1:8050/\n",
      "\n",
      "Dash is running on http://127.0.0.1:8050/\n",
      "\n",
      "Dash is running on http://127.0.0.1:8050/\n",
      "\n",
      " * Serving Flask app \"__main__\" (lazy loading)\n",
      " * Environment: production\n",
      "   WARNING: This is a development server. Do not use it in a production deployment.\n",
      "   Use a production WSGI server instead.\n",
      " * Debug mode: on\n"
     ]
    },
    {
     "ename": "SystemExit",
     "evalue": "1",
     "output_type": "error",
     "traceback": [
      "An exception has occurred, use %tb to see the full traceback.\n",
      "\u001b[1;31mSystemExit\u001b[0m\u001b[1;31m:\u001b[0m 1\n"
     ]
    },
    {
     "name": "stderr",
     "output_type": "stream",
     "text": [
      "C:\\Users\\gabri\\Anaconda3\\lib\\site-packages\\IPython\\core\\interactiveshell.py:2971: UserWarning:\n",
      "\n",
      "To exit: use 'exit', 'quit', or Ctrl-D.\n",
      "\n"
     ]
    }
   ],
   "source": [
    "import dash\n",
    "import dash_core_components as dcc\n",
    "import dash_html_components as html\n",
    "import plotly.graph_objs as go\n",
    "import pandas as pd\n",
    "\n",
    "df = pd.read_excel(\n",
    "    \"https://github.com/chris1610/pbpython/blob/master/data/salesfunnel.xlsx?raw=True\"\n",
    ")\n",
    "\n",
    "pv = pd.pivot_table(df, index=['Name'], columns=[\"Status\"], values=['Quantity'], aggfunc=sum, fill_value=0)\n",
    "\n",
    "\n",
    "trace1 = go.Bar(x=pv.index, y=pv[('Quantity', 'declined')], name='Declined')\n",
    "trace2 = go.Bar(x=pv.index, y=pv[('Quantity', 'pending')], name='Pending')\n",
    "trace3 = go.Bar(x=pv.index, y=pv[('Quantity', 'presented')], name='Presented')\n",
    "trace4 = go.Bar(x=pv.index, y=pv[('Quantity', 'won')], name='Won')\n",
    "\n",
    "app = dash.Dash()\n",
    "app.layout = html.Div(children=[\n",
    "    html.H1(children='Sales Funnel Report'),\n",
    "    html.Div(children='''National Sales Funnel Report.'''),\n",
    "    dcc.Graph(\n",
    "        id='example-graph',\n",
    "        figure={\n",
    "            'data': [trace1, trace2, trace3, trace4],\n",
    "            'layout':\n",
    "            go.Layout(title='Order Status by Customer', barmode='stack')\n",
    "        })\n",
    "])\n",
    "\n",
    "if __name__ == '__main__':\n",
    "    app.run_server(debug=True)"
   ]
  },
  {
   "cell_type": "code",
   "execution_count": null,
   "metadata": {},
   "outputs": [],
   "source": []
  }
 ],
 "metadata": {
  "kernelspec": {
   "display_name": "Python 3",
   "language": "python",
   "name": "python3"
  },
  "language_info": {
   "codemirror_mode": {
    "name": "ipython",
    "version": 3
   },
   "file_extension": ".py",
   "mimetype": "text/x-python",
   "name": "python",
   "nbconvert_exporter": "python",
   "pygments_lexer": "ipython3",
   "version": "3.6.5"
  }
 },
 "nbformat": 4,
 "nbformat_minor": 2
}
