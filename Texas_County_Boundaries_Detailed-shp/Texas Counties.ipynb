{
 "cells": [
  {
   "cell_type": "code",
   "execution_count": 6,
   "metadata": {},
   "outputs": [],
   "source": [
    "import pandas as pd\n",
    "import geopandas as gpd\n",
    "import requests\n",
    "import lxml.html as lh\n",
    "from bs4 import BeautifulSoup\n",
    "from shapely.geometry import Point, Polygon\n",
    "import matplotlib.pyplot as plt\n",
    "import numpy as np\n",
    "import PIL"
   ]
  },
  {
   "cell_type": "code",
   "execution_count": 7,
   "metadata": {
    "scrolled": true
   },
   "outputs": [],
   "source": [
    "texas = gpd.read_file(\"County.shp\")\n",
    "texas = texas.astype({\"CNTY_FIPS\": int})"
   ]
  },
  {
   "cell_type": "code",
   "execution_count": 8,
   "metadata": {},
   "outputs": [],
   "source": [
    "def plot_county_map(merged,year,column):\n",
    "    \n",
    "    plot = merged.dropna().plot(column=column, cmap ='jet', figsize=(15,9), k=3, legend=True)\n",
    "\n",
    "    #add title to the map\n",
    "    plot.set_title(column + \" Production in \" + year, fontdict={'fontsize':15})\n",
    "    #plt.clim(0,40000000)\n",
    "\n",
    "    #remove axes\n",
    "    plot.set_axis_off()   "
   ]
  },
  {
   "cell_type": "code",
   "execution_count": 17,
   "metadata": {},
   "outputs": [
    {
     "data": {
      "text/plain": [
       "<Figure size 1080x648 with 0 Axes>"
      ]
     },
     "metadata": {},
     "output_type": "display_data"
    },
    {
     "data": {
      "text/plain": [
       "<Figure size 1080x648 with 0 Axes>"
      ]
     },
     "metadata": {},
     "output_type": "display_data"
    },
    {
     "data": {
      "text/plain": [
       "<Figure size 1080x648 with 0 Axes>"
      ]
     },
     "metadata": {},
     "output_type": "display_data"
    },
    {
     "data": {
      "text/plain": [
       "<Figure size 1080x648 with 0 Axes>"
      ]
     },
     "metadata": {},
     "output_type": "display_data"
    },
    {
     "data": {
      "text/plain": [
       "<Figure size 1080x648 with 0 Axes>"
      ]
     },
     "metadata": {},
     "output_type": "display_data"
    }
   ],
   "source": [
    "year = np.arange(1993,1998)\n",
    "\n",
    "image_frames = []\n",
    "\n",
    "for i in year: \n",
    "    \n",
    "    I = str(i)\n",
    "    filename = \"TX Production - \" + I +\".csv\"\n",
    "    production = pd.read_csv(filename)\n",
    "    \n",
    "    merged = texas.merge(production, left_on = 'CNTY_FIPS', right_on = 'FIPS')\n",
    "    \n",
    "    plot_county_map(merged,I,\"Oil (bbl)\")\n",
    "    \n",
    "    #save image\n",
    "    plt.savefig(I + \".jpg\")\n",
    "    \n",
    "    #clear plot\n",
    "    plt.clf()\n",
    "\n",
    "    new_frame = PIL.Image.open(I + \".jpg\")\n",
    "    image_frames.append(new_frame)\n",
    "    \n",
    "image_frames[0].save('Oil Production.gif', format = \"GIF\", append_images = image_frames[1:], save_all=True, duration=1200, loop=0)"
   ]
  }
 ],
 "metadata": {
  "kernelspec": {
   "display_name": "Python 3",
   "language": "python",
   "name": "python3"
  },
  "language_info": {
   "codemirror_mode": {
    "name": "ipython",
    "version": 3
   },
   "file_extension": ".py",
   "mimetype": "text/x-python",
   "name": "python",
   "nbconvert_exporter": "python",
   "pygments_lexer": "ipython3",
   "version": "3.6.5"
  }
 },
 "nbformat": 4,
 "nbformat_minor": 2
}
