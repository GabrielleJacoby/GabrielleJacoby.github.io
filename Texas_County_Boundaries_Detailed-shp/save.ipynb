{
 "cells": [
  {
   "cell_type": "code",
   "execution_count": null,
   "metadata": {},
   "outputs": [],
   "source": [
    "<script>\n",
    "$(function(){\n",
    "        $.getJSON(\"mps.json\", function(mps) {\n",
    "            $(\"#output2\").pivotUI(mps, {\n",
    "                onRefresh: function(config) {\n",
    "                    var config_copy = JSON.parse(JSON.stringify(config));\n",
    "                    //delete some values which are functions\n",
    "                    delete config_copy[\"aggregators\"];\n",
    "                    delete config_copy[\"renderers\"];\n",
    "                    //delete some bulky default values\n",
    "                    delete config_copy[\"rendererOptions\"];\n",
    "                    delete config_copy[\"localeStrings\"];\n",
    "                    $(\"#output\").text(JSON.stringify(config_copy, undefined, 2));\n",
    "                }\n",
    "            });\n",
    "        });\n",
    "     });\n",
    "</script>"
   ]
  }
 ],
 "metadata": {
  "kernelspec": {
   "display_name": "Python 3",
   "language": "python",
   "name": "python3"
  },
  "language_info": {
   "codemirror_mode": {
    "name": "ipython",
    "version": 3
   },
   "file_extension": ".py",
   "mimetype": "text/x-python",
   "name": "python",
   "nbconvert_exporter": "python",
   "pygments_lexer": "ipython3",
   "version": "3.6.13"
  }
 },
 "nbformat": 4,
 "nbformat_minor": 2
}
