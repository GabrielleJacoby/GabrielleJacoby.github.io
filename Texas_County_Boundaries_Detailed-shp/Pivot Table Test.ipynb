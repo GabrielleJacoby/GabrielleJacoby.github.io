{
 "cells": [
  {
   "cell_type": "code",
   "execution_count": 1,
   "metadata": {},
   "outputs": [],
   "source": [
    "from pivottablejs import pivot_ui\n",
    "import pandas as pd"
   ]
  },
  {
   "cell_type": "code",
   "execution_count": 2,
   "metadata": {},
   "outputs": [],
   "source": [
    "df = pd.read_csv(\"PivotTableTest.csv\")"
   ]
  },
  {
   "cell_type": "code",
   "execution_count": 3,
   "metadata": {},
   "outputs": [
    {
     "data": {
      "text/html": [
       "<div>\n",
       "<style scoped>\n",
       "    .dataframe tbody tr th:only-of-type {\n",
       "        vertical-align: middle;\n",
       "    }\n",
       "\n",
       "    .dataframe tbody tr th {\n",
       "        vertical-align: top;\n",
       "    }\n",
       "\n",
       "    .dataframe thead th {\n",
       "        text-align: right;\n",
       "    }\n",
       "</style>\n",
       "<table border=\"1\" class=\"dataframe\">\n",
       "  <thead>\n",
       "    <tr style=\"text-align: right;\">\n",
       "      <th></th>\n",
       "      <th>FIPS</th>\n",
       "      <th>County</th>\n",
       "      <th>Basin</th>\n",
       "      <th>Hubbert Stage</th>\n",
       "      <th>Cumulative Production</th>\n",
       "      <th>Magnitude</th>\n",
       "      <th>Year</th>\n",
       "      <th>Value</th>\n",
       "    </tr>\n",
       "  </thead>\n",
       "  <tbody>\n",
       "    <tr>\n",
       "      <th>0</th>\n",
       "      <td>48001</td>\n",
       "      <td>Anderson</td>\n",
       "      <td>None</td>\n",
       "      <td>ERROR</td>\n",
       "      <td>22459703</td>\n",
       "      <td>Small</td>\n",
       "      <td>1993</td>\n",
       "      <td>1377971</td>\n",
       "    </tr>\n",
       "    <tr>\n",
       "      <th>1</th>\n",
       "      <td>48001</td>\n",
       "      <td>Anderson</td>\n",
       "      <td>None</td>\n",
       "      <td>ERROR</td>\n",
       "      <td>22459703</td>\n",
       "      <td>Small</td>\n",
       "      <td>1994</td>\n",
       "      <td>1361731</td>\n",
       "    </tr>\n",
       "    <tr>\n",
       "      <th>2</th>\n",
       "      <td>48001</td>\n",
       "      <td>Anderson</td>\n",
       "      <td>None</td>\n",
       "      <td>ERROR</td>\n",
       "      <td>22459703</td>\n",
       "      <td>Small</td>\n",
       "      <td>1995</td>\n",
       "      <td>1299698</td>\n",
       "    </tr>\n",
       "    <tr>\n",
       "      <th>3</th>\n",
       "      <td>48001</td>\n",
       "      <td>Anderson</td>\n",
       "      <td>None</td>\n",
       "      <td>ERROR</td>\n",
       "      <td>22459703</td>\n",
       "      <td>Small</td>\n",
       "      <td>1996</td>\n",
       "      <td>1186513</td>\n",
       "    </tr>\n",
       "    <tr>\n",
       "      <th>4</th>\n",
       "      <td>48001</td>\n",
       "      <td>Anderson</td>\n",
       "      <td>None</td>\n",
       "      <td>ERROR</td>\n",
       "      <td>22459703</td>\n",
       "      <td>Small</td>\n",
       "      <td>1997</td>\n",
       "      <td>1142332</td>\n",
       "    </tr>\n",
       "  </tbody>\n",
       "</table>\n",
       "</div>"
      ],
      "text/plain": [
       "    FIPS    County Basin Hubbert Stage  Cumulative Production Magnitude  Year  \\\n",
       "0  48001  Anderson  None         ERROR               22459703     Small  1993   \n",
       "1  48001  Anderson  None         ERROR               22459703     Small  1994   \n",
       "2  48001  Anderson  None         ERROR               22459703     Small  1995   \n",
       "3  48001  Anderson  None         ERROR               22459703     Small  1996   \n",
       "4  48001  Anderson  None         ERROR               22459703     Small  1997   \n",
       "\n",
       "     Value  \n",
       "0  1377971  \n",
       "1  1361731  \n",
       "2  1299698  \n",
       "3  1186513  \n",
       "4  1142332  "
      ]
     },
     "execution_count": 3,
     "metadata": {},
     "output_type": "execute_result"
    }
   ],
   "source": [
    "df.head()"
   ]
  },
  {
   "cell_type": "code",
   "execution_count": 4,
   "metadata": {},
   "outputs": [
    {
     "name": "stderr",
     "output_type": "stream",
     "text": [
      "ERROR:root:File `'<save>.py'` not found.\n"
     ]
    }
   ],
   "source": [
    "%run <save>"
   ]
  },
  {
   "cell_type": "code",
   "execution_count": 5,
   "metadata": {},
   "outputs": [
    {
     "data": {
      "text/html": [
       "\n",
       "        <iframe\n",
       "            width=\"100%\"\n",
       "            height=\"500\"\n",
       "            src=\"pivottablejs.html\"\n",
       "            frameborder=\"0\"\n",
       "            allowfullscreen\n",
       "        ></iframe>\n",
       "        "
      ],
      "text/plain": [
       "<IPython.lib.display.IFrame at 0x21768059588>"
      ]
     },
     "execution_count": 5,
     "metadata": {},
     "output_type": "execute_result"
    }
   ],
   "source": [
    "pivot_ui(df)"
   ]
  },
  {
   "cell_type": "code",
   "execution_count": null,
   "metadata": {},
   "outputs": [],
   "source": []
  }
 ],
 "metadata": {
  "kernelspec": {
   "display_name": "Python 3",
   "language": "python",
   "name": "python3"
  },
  "language_info": {
   "codemirror_mode": {
    "name": "ipython",
    "version": 3
   },
   "file_extension": ".py",
   "mimetype": "text/x-python",
   "name": "python",
   "nbconvert_exporter": "python",
   "pygments_lexer": "ipython3",
   "version": "3.6.5"
  }
 },
 "nbformat": 4,
 "nbformat_minor": 2
}
